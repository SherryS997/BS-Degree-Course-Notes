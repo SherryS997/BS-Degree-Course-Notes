{
 "cells": [
  {
   "cell_type": "code",
   "execution_count": 29,
   "metadata": {},
   "outputs": [],
   "source": [
    "import numpy as np\n",
    "\n",
    "X = [-1, 0.2]\n",
    "Y = [0.5, 0.97]"
   ]
  },
  {
   "cell_type": "code",
   "execution_count": 30,
   "metadata": {},
   "outputs": [],
   "source": [
    "def sig(x, w, b):\n",
    "    return 1 / (1 + np.exp(-(w * x + b)))"
   ]
  },
  {
   "cell_type": "code",
   "execution_count": 31,
   "metadata": {},
   "outputs": [],
   "source": [
    "def w_grad(X, Y, w, b):\n",
    "    grad = 0\n",
    "    for x, y in zip(X, Y):\n",
    "        y_pred = sig(x, w, b)\n",
    "        grad += (y_pred - y) * y_pred * (1 - y_pred) * x\n",
    "    return grad    "
   ]
  },
  {
   "cell_type": "code",
   "execution_count": 32,
   "metadata": {},
   "outputs": [],
   "source": [
    "def b_grad(X, Y, w, b):\n",
    "    grad = 0\n",
    "    for x, y in zip(X, Y):\n",
    "        y_pred = sig(x, w, b)\n",
    "        grad += (y_pred - y) * y_pred * (1 - y_pred)\n",
    "    return grad"
   ]
  },
  {
   "cell_type": "code",
   "execution_count": 38,
   "metadata": {},
   "outputs": [],
   "source": [
    "w_grads = []\n",
    "b_grads = []\n",
    "\n",
    "w = 2\n",
    "b = 2\n",
    "\n",
    "for i in range(3):\n",
    "    w_cur = w\n",
    "    w -= w_grad(X, Y, w, b)\n",
    "    b -= b_grad(X, Y, w_cur, b)\n",
    "    w_grads.append(w)\n",
    "    b_grads.append(b)"
   ]
  },
  {
   "cell_type": "code",
   "execution_count": 40,
   "metadata": {},
   "outputs": [
    {
     "data": {
      "text/plain": [
       "([2.000810936784146, 2.001816881909532, 2.002990984904156],\n",
       " [2.0040546839207285, 2.0078680086377276, 2.011469378783668])"
      ]
     },
     "execution_count": 40,
     "metadata": {},
     "output_type": "execute_result"
    }
   ],
   "source": [
    "w_grads, b_grads"
   ]
  },
  {
   "cell_type": "code",
   "execution_count": null,
   "metadata": {},
   "outputs": [],
   "source": []
  }
 ],
 "metadata": {
  "kernelspec": {
   "display_name": "Python 3",
   "language": "python",
   "name": "python3"
  },
  "language_info": {
   "codemirror_mode": {
    "name": "ipython",
    "version": 3
   },
   "file_extension": ".py",
   "mimetype": "text/x-python",
   "name": "python",
   "nbconvert_exporter": "python",
   "pygments_lexer": "ipython3",
   "version": "3.11.6"
  }
 },
 "nbformat": 4,
 "nbformat_minor": 2
}
